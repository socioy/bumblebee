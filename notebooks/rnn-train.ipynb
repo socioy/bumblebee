{
 "cells": [
  {
   "cell_type": "markdown",
   "metadata": {},
   "source": [
    "### RNN Training Notebook  \n",
    "\n",
    "This notebook trains an AI model to predict mouse cursor movement paths. The model is built using a Recurrent Neural Network (RNN) with an LSTM layer for attention."
   ]
  },
  {
   "cell_type": "code",
   "execution_count": 32,
   "metadata": {},
   "outputs": [],
   "source": [
    "import os\n",
    "import json\n",
    "import time\n",
    "import torch\n",
    "import numpy as np\n",
    "import torch.nn as nn\n",
    "from torch.utils.data import DataLoader, TensorDataset"
   ]
  },
  {
   "cell_type": "code",
   "execution_count": 33,
   "metadata": {},
   "outputs": [
    {
     "name": "stdout",
     "output_type": "stream",
     "text": [
      "/Users/arpanbhandari/Documents/coding/bumblebee/data/processed/cleaned-data-39-steps-merged-prepared-data-2025-03-08-16:27:23.json exists: Yes\n"
     ]
    }
   ],
   "source": [
    "dataset_path = os.path.join(\n",
    "    os.path.dirname(os.getcwd()),\n",
    "    \"data\",\n",
    "    \"processed\",\n",
    "    \"cleaned-data-39-steps-merged-prepared-data-2025-03-08-16:27:23.json\",\n",
    ")  # this path is for the cleaned data; must be changed accordingly\n",
    "\n",
    "print(\n",
    "    f\"{dataset_path} exists: {\"Yes\" if os.path.exists(dataset_path) else 'No'}\"\n",
    ")  ## must be Yes"
   ]
  },
  {
   "cell_type": "code",
   "execution_count": 34,
   "metadata": {},
   "outputs": [],
   "source": [
    "dataset_file = open(dataset_path, \"r\")\n",
    "dataset_json = json.load(dataset_file)\n",
    "dataset_file.close()"
   ]
  },
  {
   "cell_type": "code",
   "execution_count": 35,
   "metadata": {},
   "outputs": [
    {
     "data": {
      "text/plain": [
       "device(type='mps')"
      ]
     },
     "execution_count": 35,
     "metadata": {},
     "output_type": "execute_result"
    }
   ],
   "source": [
    "device = torch.device(\n",
    "    \"cuda\"\n",
    "    if torch.cuda.is_available()\n",
    "    else \"mps\" if torch.backends.mps.is_available() else \"cpu\"\n",
    ")\n",
    "device"
   ]
  },
  {
   "cell_type": "code",
   "execution_count": 36,
   "metadata": {},
   "outputs": [],
   "source": [
    "min_coordinate = 0\n",
    "max_coordinate = 4096  # This will allow the model to navigate in 4k resolution\n",
    "\n",
    "\n",
    "def normalize(data):  # Normalizing the data to be in the range [0, 1]\n",
    "    return (data - min_coordinate) / (max_coordinate - min_coordinate)\n",
    "\n",
    "\n",
    "def denormalize(\n",
    "    data,\n",
    "):  # Denormalizing the data to convert it back to the original range\n",
    "    return abs((data * (max_coordinate - min_coordinate)) + min_coordinate)"
   ]
  },
  {
   "cell_type": "code",
   "execution_count": 37,
   "metadata": {},
   "outputs": [],
   "source": [
    "input_data = np.array(dataset_json[\"input\"], dtype=np.float32)\n",
    "output_data = np.array(dataset_json[\"output\"], dtype=np.float32)\n",
    "\n",
    "input_data = normalize(input_data)\n",
    "output_data = normalize(output_data)\n",
    "\n",
    "intermediate_steps_num = output_data.shape[1]\n",
    "\n",
    "X_tensor = torch.tensor(input_data, dtype=torch.float, device=device)\n",
    "y_tensor = torch.tensor(output_data, dtype=torch.float, device=device)\n",
    "\n",
    "X_tensor = X_tensor.unsqueeze(1)\n",
    "y_tensor = y_tensor = y_tensor.view(\n",
    "    -1, 2 * intermediate_steps_num\n",
    ")  # Flattening the output tensor, 2 is used because only x, y corrdinates are needed to be predicted for each step\n",
    "\n",
    "\n",
    "del input_data, output_data  # to free up memory"
   ]
  },
  {
   "cell_type": "code",
   "execution_count": 38,
   "metadata": {},
   "outputs": [],
   "source": [
    "class Attention(nn.Module):\n",
    "    def __init__(self, hidden_dim):\n",
    "        super(Attention, self).__init__()\n",
    "        self.attn = nn.Linear(\n",
    "            hidden_dim, 1, bias=False\n",
    "        )  # Attention layer to assign weights to different time steps\n",
    "\n",
    "    def forward(self, lstm_out):\n",
    "        scores = self.attn(lstm_out)  # Compute attention scores for each time step\n",
    "        attn_weights = torch.softmax(\n",
    "            scores, dim=1\n",
    "        )  # Apply softmax to normalize attention weights\n",
    "        context = torch.sum(\n",
    "            attn_weights * lstm_out, dim=1\n",
    "        )  # Create context vector by weighted sum of LSTM outputs\n",
    "\n",
    "        return context, attn_weights\n",
    "\n",
    "\n",
    "class CursorRNN(nn.Module):\n",
    "    def __init__(self, input_dim, hidden_dim, output_dim, num_layers=1, dropout=0.2):\n",
    "        super(CursorRNN, self).__init__()\n",
    "        self.lstm = nn.LSTM(\n",
    "            input_dim,\n",
    "            hidden_dim,\n",
    "            num_layers=num_layers,\n",
    "            batch_first=True,\n",
    "            bidirectional=False,\n",
    "            dropout=dropout,\n",
    "        )  # LSTM layer for sequence processing\n",
    "        self.attention = Attention(\n",
    "            hidden_dim\n",
    "        )  # Attention mechanism to focus on important time steps\n",
    "        self.residual_fc = nn.Linear(\n",
    "            input_dim, hidden_dim\n",
    "        )  # Residual connection to help with gradient flow\n",
    "        self.layer_norm = nn.LayerNorm(\n",
    "            hidden_dim\n",
    "        )  # Layer normalization for training stability\n",
    "        self.fc = nn.Linear(\n",
    "            hidden_dim, output_dim\n",
    "        )  # Output projection layer to generate final predictions\n",
    "\n",
    "    def forward(self, x):\n",
    "        lstm_out, _ = self.lstm(x)  # Process sequence through LSTM\n",
    "        context, attn_weights = self.attention(\n",
    "            lstm_out\n",
    "        )  # Apply attention to focus on relevant parts\n",
    "        residual = self.residual_fc(\n",
    "            x[:, -1, :]\n",
    "        )  # Create residual connection from last input\n",
    "        combined = self.layer_norm(\n",
    "            context + residual\n",
    "        )  # Combine attention output with residual and normalize\n",
    "        output = self.fc(combined)  # Generate final trajectory prediction\n",
    "\n",
    "        return output, attn_weights"
   ]
  },
  {
   "cell_type": "code",
   "execution_count": 39,
   "metadata": {},
   "outputs": [],
   "source": [
    "input_size = X_tensor.shape[2]\n",
    "output_size = y_tensor.shape[1]\n",
    "\n",
    "hidden_size = (input_size**2) * int(output_size ** (1 / 2)) * 4\n",
    "epochs = 600\n",
    "lstm_layers = 2"
   ]
  },
  {
   "cell_type": "code",
   "execution_count": 40,
   "metadata": {},
   "outputs": [],
   "source": [
    "train_dataset = TensorDataset(X_tensor, y_tensor)\n",
    "train_loader = DataLoader(\n",
    "    train_dataset, batch_size=64, shuffle=True, num_workers=0, pin_memory=False\n",
    ")"
   ]
  },
  {
   "cell_type": "code",
   "execution_count": null,
   "metadata": {},
   "outputs": [],
   "source": [
    "model = CursorRNN(input_size, hidden_size, output_size, num_layers=lstm_layers).to(\n",
    "    device\n",
    ")\n",
    "\n",
    "criterion = nn.MSELoss()  # loss function\n",
    "optimizer = torch.optim.Adam(model.parameters(), lr=0.01)  # optimizer\n",
    "\n",
    "scheduler = torch.optim.lr_scheduler.ReduceLROnPlateau(\n",
    "    optimizer, mode=\"min\", factor=0.5, patience=5, verbose=True\n",
    ")  # learning rate scheduler for better convergence\n",
    "\n",
    "# for best model tracking\n",
    "best_loss = float(\"inf\")\n",
    "best_model_state = None\n",
    "\n",
    "for epoch in range(epochs):\n",
    "    model.train()\n",
    "\n",
    "    running_loss = 0.0\n",
    "\n",
    "    for x_batch, y_batch in train_loader:\n",
    "        x_batch, y_batch = x_batch.to(device), y_batch.to(\n",
    "            device\n",
    "        )  # moving batch to gpu or cpu based on availability\n",
    "        optimizer.zero_grad()  # zeroing the gradients\n",
    "\n",
    "        y_pred, _ = model(x_batch)  # forward pass\n",
    "\n",
    "        loss = criterion(y_pred, y_batch)  # calculating loss\n",
    "        loss.backward()  # backpropagation\n",
    "\n",
    "        torch.nn.utils.clip_grad_norm_(\n",
    "            model.parameters(), max_norm=1.0\n",
    "        )  # gradient clipping to prevent exploding gradients\n",
    "\n",
    "        optimizer.step()  # updating weights\n",
    "        running_loss += loss.item()\n",
    "\n",
    "    avg_loss = running_loss / len(train_loader)\n",
    "    scheduler.step(avg_loss)  # updating learning rate based on loss\n",
    "\n",
    "    if avg_loss < best_loss:\n",
    "        best_loss = avg_loss\n",
    "        best_model_state = model.state_dict().copy()\n",
    "\n",
    "    print(\n",
    "        f'Epoch: {epoch+1}/{epochs}, Loss: {avg_loss:.10f}, LR: {optimizer.param_groups[0][\"lr\"]:.10f}'\n",
    "    )"
   ]
  },
  {
   "cell_type": "code",
   "execution_count": null,
   "metadata": {},
   "outputs": [],
   "source": [
    "model_name = f\"cursor-rnn-model-{time.strftime('%Y-%m-%d-%H:%M:%S')}.pth\"\n",
    "model_path = os.path.join(os.path.dirname(os.getcwd()), \"data\", \"models\", model_name)\n",
    "torch.save(best_model_state, model_path)\n",
    "print(f\"Model saved at {model_path}\")"
   ]
  }
 ],
 "metadata": {
  "kernelspec": {
   "display_name": "bumblebee",
   "language": "python",
   "name": "python3"
  },
  "language_info": {
   "codemirror_mode": {
    "name": "ipython",
    "version": 3
   },
   "file_extension": ".py",
   "mimetype": "text/x-python",
   "name": "python",
   "nbconvert_exporter": "python",
   "pygments_lexer": "ipython3",
   "version": "3.13.2"
  }
 },
 "nbformat": 4,
 "nbformat_minor": 2
}
