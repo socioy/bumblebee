{
 "cells": [
  {
   "cell_type": "markdown",
   "metadata": {},
   "source": [
    "## Data Cleaning Notebook  \n",
    "\n",
    "This notebook cleans the data prepared by `prepare.ipynb`. Before running this notebook, ensure that `prepare.ipynb` has been executed, as it generates the necessary raw data in the `data/processed/` folder. You will need the path to the file created by `prepare.ipynb` to run this notebook.  \n",
    "\n",
    "#### Current Scope  \n",
    "- Cleans and preprocesses data for training.  \n",
    "- Requires the processed data from `prepare.ipynb` in `data/processed/`.  \n",
    "- Saves the cleaned data to `data/processed/` for use in training.  \n"
   ]
  },
  {
   "cell_type": "code",
   "execution_count": 1,
   "metadata": {},
   "outputs": [],
   "source": [
    "import os\n",
    "import json\n",
    "import random\n",
    "import statistics\n",
    "import numpy as np\n",
    "from collections import Counter\n",
    "import plotly.graph_objs as go\n",
    "import math"
   ]
  },
  {
   "cell_type": "code",
   "execution_count": 2,
   "metadata": {},
   "outputs": [
    {
     "data": {
      "text/plain": [
       "True"
      ]
     },
     "execution_count": 2,
     "metadata": {},
     "output_type": "execute_result"
    }
   ],
   "source": [
    "prepared_data_file_name = \"merged-prepared-data-2025-03-08-16:27:23.json\"  # this file name should be changed according to the file created after running prepare.ipynb\n",
    "\n",
    "prepared_data_file_path = os.path.join(\n",
    "    os.path.dirname(os.getcwd()), \"data\", \"processed\", prepared_data_file_name\n",
    ")  # path to the prepared data file\n",
    "\n",
    "os.path.exists(prepared_data_file_path)  # check if the file exists, must return True"
   ]
  },
  {
   "cell_type": "code",
   "execution_count": 3,
   "metadata": {},
   "outputs": [],
   "source": [
    "original_data = []\n",
    "cleaned_data = []\n",
    "\n",
    "file = open(\n",
    "    prepared_data_file_path, \"r\"\n",
    ")  # not the cool way to open a file, but it works, and I don't want unnecessary identetion\n",
    "original_data = json.load(file)\n",
    "file.close()\n",
    "\n",
    "intermediate_steps_lengths = [\n",
    "    len(steps[\"path\"]) for steps in original_data\n",
    "]  # how many intemediate steps were taken in dataset between initial and final mouse position\n",
    "intermediate_steps_counts = Counter(\n",
    "    intermediate_steps_lengths\n",
    ")  # count how many times each number of intermediate steps was taken\n",
    "\n",
    "intermediate_steps_counts = dict(\n",
    "    sorted(intermediate_steps_counts.items())\n",
    ")  # sort the dictionary by keys"
   ]
  },
  {
   "cell_type": "code",
   "execution_count": 6,
   "metadata": {},
   "outputs": [],
   "source": [
    "# Calculate statistics\n",
    "mode_value = statistics.mode(intermediate_steps_lengths)\n",
    "mean_value = statistics.mean(intermediate_steps_lengths)\n",
    "median_value = statistics.median(intermediate_steps_lengths)\n",
    "\n",
    "# Percentiles\n",
    "first_quartile = np.percentile(intermediate_steps_lengths, 25)\n",
    "third_quartile = np.percentile(intermediate_steps_lengths, 75)\n",
    "ninetieth_percentile = np.percentile(intermediate_steps_lengths, 90)\n",
    "ninety_fifth_percentile = np.percentile(intermediate_steps_lengths, 95)\n",
    "ninety_ninth_percentile = np.percentile(intermediate_steps_lengths, 99)\n",
    "\n",
    "# Standard Deviation and Variance\n",
    "std_dev = np.std(intermediate_steps_lengths)\n",
    "variance = np.var(intermediate_steps_lengths)"
   ]
  },
  {
   "cell_type": "code",
   "execution_count": 7,
   "metadata": {},
   "outputs": [
    {
     "data": {
      "application/vnd.plotly.v1+json": {
       "config": {
        "plotlyServerURL": "https://plot.ly"
       },
       "data": [
        {
         "line": {
          "color": "royalblue",
          "width": 2
         },
         "marker": {
          "color": "darkblue",
          "size": 6,
          "symbol": "circle"
         },
         "mode": "lines+markers",
         "name": "Intermediate Steps Count",
         "type": "scatter",
         "x": [
          2,
          3,
          4,
          5,
          6,
          7,
          8,
          9,
          10,
          11,
          12,
          13,
          14,
          15,
          16,
          17,
          18,
          19,
          20,
          21,
          22,
          23,
          24,
          25,
          26,
          27,
          28,
          29,
          30,
          31,
          32,
          33,
          34,
          35,
          36,
          37,
          38,
          39,
          40,
          41,
          42,
          43,
          44,
          45,
          46,
          47,
          48,
          49,
          50,
          51,
          52,
          53,
          54,
          55,
          56,
          57,
          58,
          59,
          60,
          61,
          62,
          63,
          64,
          65,
          66,
          67,
          68,
          69,
          70,
          71,
          72,
          73,
          74,
          75,
          76,
          77,
          78,
          79,
          80,
          81,
          82,
          83,
          84,
          85,
          86,
          87,
          88,
          89,
          90,
          91,
          92,
          93,
          94,
          95,
          96,
          97,
          98,
          99,
          100,
          101,
          102,
          103,
          104,
          105,
          106,
          107,
          108,
          109,
          110,
          111,
          112,
          113,
          114,
          115,
          116,
          117,
          118,
          119,
          120,
          121,
          122,
          123,
          124,
          125,
          126,
          130,
          131,
          133,
          135,
          136,
          137,
          140,
          144,
          146,
          147,
          150,
          152,
          154,
          156,
          157,
          159,
          160,
          164,
          167,
          171,
          177,
          184,
          185,
          189,
          206,
          216,
          242,
          261,
          384,
          545,
          833
         ],
         "y": [
          1,
          2,
          4,
          5,
          3,
          8,
          6,
          10,
          26,
          26,
          39,
          62,
          71,
          81,
          105,
          146,
          144,
          182,
          200,
          280,
          305,
          360,
          449,
          445,
          551,
          587,
          624,
          660,
          719,
          793,
          840,
          911,
          944,
          922,
          861,
          930,
          919,
          885,
          870,
          806,
          775,
          730,
          664,
          658,
          551,
          533,
          472,
          442,
          414,
          352,
          296,
          293,
          274,
          247,
          229,
          198,
          181,
          173,
          148,
          157,
          151,
          114,
          112,
          128,
          113,
          117,
          104,
          84,
          94,
          66,
          54,
          70,
          67,
          71,
          50,
          58,
          54,
          45,
          36,
          36,
          37,
          44,
          26,
          29,
          29,
          29,
          28,
          27,
          22,
          35,
          14,
          12,
          21,
          15,
          15,
          10,
          12,
          9,
          10,
          4,
          8,
          9,
          10,
          8,
          9,
          6,
          3,
          5,
          10,
          2,
          3,
          7,
          5,
          5,
          3,
          2,
          3,
          1,
          1,
          3,
          1,
          1,
          2,
          2,
          4,
          2,
          1,
          1,
          2,
          2,
          3,
          1,
          1,
          1,
          1,
          1,
          1,
          1,
          1,
          2,
          1,
          1,
          1,
          1,
          1,
          1,
          1,
          1,
          1,
          1,
          1,
          1,
          1,
          1,
          1,
          1
         ]
        }
       ],
       "layout": {
        "annotations": [
         {
          "arrowhead": 1,
          "ax": 50,
          "ay": -40,
          "showarrow": true,
          "text": "Peak: 944 samples with 34 steps",
          "x": 34,
          "y": 944
         },
         {
          "font": {
           "color": "red"
          },
          "showarrow": false,
          "text": "Mean: 40.64 steps",
          "x": 749.7,
          "y": 40.63656823561367
         },
         {
          "align": "left",
          "bgcolor": "rgba(255, 255, 255, 0.8)",
          "bordercolor": "gray",
          "borderwidth": 1,
          "font": {
           "size": 10
          },
          "showarrow": false,
          "text": "<b>Statistics:</b><br>Mean: 40.64<br>Median: 38<br>Mode: 34<br>Std Dev: 16.73<br>Q1: 31<br>Q3: 47<br>90%: 59<br>95%: 69<br>99%: 92",
          "x": 0.98,
          "xanchor": "right",
          "xref": "paper",
          "y": 0.98,
          "yanchor": "top",
          "yref": "paper"
         }
        ],
        "hoverlabel": {
         "bgcolor": "white",
         "font": {
          "family": "Arial",
          "size": 12
         }
        },
        "hovermode": "x unified",
        "legend": {
         "orientation": "h",
         "x": 1,
         "xanchor": "right",
         "y": 1.02,
         "yanchor": "bottom"
        },
        "margin": {
         "b": 60,
         "l": 60,
         "r": 60,
         "t": 80
        },
        "shapes": [
         {
          "line": {
           "color": "red",
           "dash": "dash",
           "width": 1
          },
          "type": "line",
          "x0": 2,
          "x1": 833,
          "y0": 40.63656823561367,
          "y1": 40.63656823561367
         }
        ],
        "template": {
         "data": {
          "bar": [
           {
            "error_x": {
             "color": "#2a3f5f"
            },
            "error_y": {
             "color": "#2a3f5f"
            },
            "marker": {
             "line": {
              "color": "white",
              "width": 0.5
             },
             "pattern": {
              "fillmode": "overlay",
              "size": 10,
              "solidity": 0.2
             }
            },
            "type": "bar"
           }
          ],
          "barpolar": [
           {
            "marker": {
             "line": {
              "color": "white",
              "width": 0.5
             },
             "pattern": {
              "fillmode": "overlay",
              "size": 10,
              "solidity": 0.2
             }
            },
            "type": "barpolar"
           }
          ],
          "carpet": [
           {
            "aaxis": {
             "endlinecolor": "#2a3f5f",
             "gridcolor": "#C8D4E3",
             "linecolor": "#C8D4E3",
             "minorgridcolor": "#C8D4E3",
             "startlinecolor": "#2a3f5f"
            },
            "baxis": {
             "endlinecolor": "#2a3f5f",
             "gridcolor": "#C8D4E3",
             "linecolor": "#C8D4E3",
             "minorgridcolor": "#C8D4E3",
             "startlinecolor": "#2a3f5f"
            },
            "type": "carpet"
           }
          ],
          "choropleth": [
           {
            "colorbar": {
             "outlinewidth": 0,
             "ticks": ""
            },
            "type": "choropleth"
           }
          ],
          "contour": [
           {
            "colorbar": {
             "outlinewidth": 0,
             "ticks": ""
            },
            "colorscale": [
             [
              0,
              "#0d0887"
             ],
             [
              0.1111111111111111,
              "#46039f"
             ],
             [
              0.2222222222222222,
              "#7201a8"
             ],
             [
              0.3333333333333333,
              "#9c179e"
             ],
             [
              0.4444444444444444,
              "#bd3786"
             ],
             [
              0.5555555555555556,
              "#d8576b"
             ],
             [
              0.6666666666666666,
              "#ed7953"
             ],
             [
              0.7777777777777778,
              "#fb9f3a"
             ],
             [
              0.8888888888888888,
              "#fdca26"
             ],
             [
              1,
              "#f0f921"
             ]
            ],
            "type": "contour"
           }
          ],
          "contourcarpet": [
           {
            "colorbar": {
             "outlinewidth": 0,
             "ticks": ""
            },
            "type": "contourcarpet"
           }
          ],
          "heatmap": [
           {
            "colorbar": {
             "outlinewidth": 0,
             "ticks": ""
            },
            "colorscale": [
             [
              0,
              "#0d0887"
             ],
             [
              0.1111111111111111,
              "#46039f"
             ],
             [
              0.2222222222222222,
              "#7201a8"
             ],
             [
              0.3333333333333333,
              "#9c179e"
             ],
             [
              0.4444444444444444,
              "#bd3786"
             ],
             [
              0.5555555555555556,
              "#d8576b"
             ],
             [
              0.6666666666666666,
              "#ed7953"
             ],
             [
              0.7777777777777778,
              "#fb9f3a"
             ],
             [
              0.8888888888888888,
              "#fdca26"
             ],
             [
              1,
              "#f0f921"
             ]
            ],
            "type": "heatmap"
           }
          ],
          "histogram": [
           {
            "marker": {
             "pattern": {
              "fillmode": "overlay",
              "size": 10,
              "solidity": 0.2
             }
            },
            "type": "histogram"
           }
          ],
          "histogram2d": [
           {
            "colorbar": {
             "outlinewidth": 0,
             "ticks": ""
            },
            "colorscale": [
             [
              0,
              "#0d0887"
             ],
             [
              0.1111111111111111,
              "#46039f"
             ],
             [
              0.2222222222222222,
              "#7201a8"
             ],
             [
              0.3333333333333333,
              "#9c179e"
             ],
             [
              0.4444444444444444,
              "#bd3786"
             ],
             [
              0.5555555555555556,
              "#d8576b"
             ],
             [
              0.6666666666666666,
              "#ed7953"
             ],
             [
              0.7777777777777778,
              "#fb9f3a"
             ],
             [
              0.8888888888888888,
              "#fdca26"
             ],
             [
              1,
              "#f0f921"
             ]
            ],
            "type": "histogram2d"
           }
          ],
          "histogram2dcontour": [
           {
            "colorbar": {
             "outlinewidth": 0,
             "ticks": ""
            },
            "colorscale": [
             [
              0,
              "#0d0887"
             ],
             [
              0.1111111111111111,
              "#46039f"
             ],
             [
              0.2222222222222222,
              "#7201a8"
             ],
             [
              0.3333333333333333,
              "#9c179e"
             ],
             [
              0.4444444444444444,
              "#bd3786"
             ],
             [
              0.5555555555555556,
              "#d8576b"
             ],
             [
              0.6666666666666666,
              "#ed7953"
             ],
             [
              0.7777777777777778,
              "#fb9f3a"
             ],
             [
              0.8888888888888888,
              "#fdca26"
             ],
             [
              1,
              "#f0f921"
             ]
            ],
            "type": "histogram2dcontour"
           }
          ],
          "mesh3d": [
           {
            "colorbar": {
             "outlinewidth": 0,
             "ticks": ""
            },
            "type": "mesh3d"
           }
          ],
          "parcoords": [
           {
            "line": {
             "colorbar": {
              "outlinewidth": 0,
              "ticks": ""
             }
            },
            "type": "parcoords"
           }
          ],
          "pie": [
           {
            "automargin": true,
            "type": "pie"
           }
          ],
          "scatter": [
           {
            "fillpattern": {
             "fillmode": "overlay",
             "size": 10,
             "solidity": 0.2
            },
            "type": "scatter"
           }
          ],
          "scatter3d": [
           {
            "line": {
             "colorbar": {
              "outlinewidth": 0,
              "ticks": ""
             }
            },
            "marker": {
             "colorbar": {
              "outlinewidth": 0,
              "ticks": ""
             }
            },
            "type": "scatter3d"
           }
          ],
          "scattercarpet": [
           {
            "marker": {
             "colorbar": {
              "outlinewidth": 0,
              "ticks": ""
             }
            },
            "type": "scattercarpet"
           }
          ],
          "scattergeo": [
           {
            "marker": {
             "colorbar": {
              "outlinewidth": 0,
              "ticks": ""
             }
            },
            "type": "scattergeo"
           }
          ],
          "scattergl": [
           {
            "marker": {
             "colorbar": {
              "outlinewidth": 0,
              "ticks": ""
             }
            },
            "type": "scattergl"
           }
          ],
          "scattermap": [
           {
            "marker": {
             "colorbar": {
              "outlinewidth": 0,
              "ticks": ""
             }
            },
            "type": "scattermap"
           }
          ],
          "scattermapbox": [
           {
            "marker": {
             "colorbar": {
              "outlinewidth": 0,
              "ticks": ""
             }
            },
            "type": "scattermapbox"
           }
          ],
          "scatterpolar": [
           {
            "marker": {
             "colorbar": {
              "outlinewidth": 0,
              "ticks": ""
             }
            },
            "type": "scatterpolar"
           }
          ],
          "scatterpolargl": [
           {
            "marker": {
             "colorbar": {
              "outlinewidth": 0,
              "ticks": ""
             }
            },
            "type": "scatterpolargl"
           }
          ],
          "scatterternary": [
           {
            "marker": {
             "colorbar": {
              "outlinewidth": 0,
              "ticks": ""
             }
            },
            "type": "scatterternary"
           }
          ],
          "surface": [
           {
            "colorbar": {
             "outlinewidth": 0,
             "ticks": ""
            },
            "colorscale": [
             [
              0,
              "#0d0887"
             ],
             [
              0.1111111111111111,
              "#46039f"
             ],
             [
              0.2222222222222222,
              "#7201a8"
             ],
             [
              0.3333333333333333,
              "#9c179e"
             ],
             [
              0.4444444444444444,
              "#bd3786"
             ],
             [
              0.5555555555555556,
              "#d8576b"
             ],
             [
              0.6666666666666666,
              "#ed7953"
             ],
             [
              0.7777777777777778,
              "#fb9f3a"
             ],
             [
              0.8888888888888888,
              "#fdca26"
             ],
             [
              1,
              "#f0f921"
             ]
            ],
            "type": "surface"
           }
          ],
          "table": [
           {
            "cells": {
             "fill": {
              "color": "#EBF0F8"
             },
             "line": {
              "color": "white"
             }
            },
            "header": {
             "fill": {
              "color": "#C8D4E3"
             },
             "line": {
              "color": "white"
             }
            },
            "type": "table"
           }
          ]
         },
         "layout": {
          "annotationdefaults": {
           "arrowcolor": "#2a3f5f",
           "arrowhead": 0,
           "arrowwidth": 1
          },
          "autotypenumbers": "strict",
          "coloraxis": {
           "colorbar": {
            "outlinewidth": 0,
            "ticks": ""
           }
          },
          "colorscale": {
           "diverging": [
            [
             0,
             "#8e0152"
            ],
            [
             0.1,
             "#c51b7d"
            ],
            [
             0.2,
             "#de77ae"
            ],
            [
             0.3,
             "#f1b6da"
            ],
            [
             0.4,
             "#fde0ef"
            ],
            [
             0.5,
             "#f7f7f7"
            ],
            [
             0.6,
             "#e6f5d0"
            ],
            [
             0.7,
             "#b8e186"
            ],
            [
             0.8,
             "#7fbc41"
            ],
            [
             0.9,
             "#4d9221"
            ],
            [
             1,
             "#276419"
            ]
           ],
           "sequential": [
            [
             0,
             "#0d0887"
            ],
            [
             0.1111111111111111,
             "#46039f"
            ],
            [
             0.2222222222222222,
             "#7201a8"
            ],
            [
             0.3333333333333333,
             "#9c179e"
            ],
            [
             0.4444444444444444,
             "#bd3786"
            ],
            [
             0.5555555555555556,
             "#d8576b"
            ],
            [
             0.6666666666666666,
             "#ed7953"
            ],
            [
             0.7777777777777778,
             "#fb9f3a"
            ],
            [
             0.8888888888888888,
             "#fdca26"
            ],
            [
             1,
             "#f0f921"
            ]
           ],
           "sequentialminus": [
            [
             0,
             "#0d0887"
            ],
            [
             0.1111111111111111,
             "#46039f"
            ],
            [
             0.2222222222222222,
             "#7201a8"
            ],
            [
             0.3333333333333333,
             "#9c179e"
            ],
            [
             0.4444444444444444,
             "#bd3786"
            ],
            [
             0.5555555555555556,
             "#d8576b"
            ],
            [
             0.6666666666666666,
             "#ed7953"
            ],
            [
             0.7777777777777778,
             "#fb9f3a"
            ],
            [
             0.8888888888888888,
             "#fdca26"
            ],
            [
             1,
             "#f0f921"
            ]
           ]
          },
          "colorway": [
           "#636efa",
           "#EF553B",
           "#00cc96",
           "#ab63fa",
           "#FFA15A",
           "#19d3f3",
           "#FF6692",
           "#B6E880",
           "#FF97FF",
           "#FECB52"
          ],
          "font": {
           "color": "#2a3f5f"
          },
          "geo": {
           "bgcolor": "white",
           "lakecolor": "white",
           "landcolor": "white",
           "showlakes": true,
           "showland": true,
           "subunitcolor": "#C8D4E3"
          },
          "hoverlabel": {
           "align": "left"
          },
          "hovermode": "closest",
          "mapbox": {
           "style": "light"
          },
          "paper_bgcolor": "white",
          "plot_bgcolor": "white",
          "polar": {
           "angularaxis": {
            "gridcolor": "#EBF0F8",
            "linecolor": "#EBF0F8",
            "ticks": ""
           },
           "bgcolor": "white",
           "radialaxis": {
            "gridcolor": "#EBF0F8",
            "linecolor": "#EBF0F8",
            "ticks": ""
           }
          },
          "scene": {
           "xaxis": {
            "backgroundcolor": "white",
            "gridcolor": "#DFE8F3",
            "gridwidth": 2,
            "linecolor": "#EBF0F8",
            "showbackground": true,
            "ticks": "",
            "zerolinecolor": "#EBF0F8"
           },
           "yaxis": {
            "backgroundcolor": "white",
            "gridcolor": "#DFE8F3",
            "gridwidth": 2,
            "linecolor": "#EBF0F8",
            "showbackground": true,
            "ticks": "",
            "zerolinecolor": "#EBF0F8"
           },
           "zaxis": {
            "backgroundcolor": "white",
            "gridcolor": "#DFE8F3",
            "gridwidth": 2,
            "linecolor": "#EBF0F8",
            "showbackground": true,
            "ticks": "",
            "zerolinecolor": "#EBF0F8"
           }
          },
          "shapedefaults": {
           "line": {
            "color": "#2a3f5f"
           }
          },
          "ternary": {
           "aaxis": {
            "gridcolor": "#DFE8F3",
            "linecolor": "#A2B1C6",
            "ticks": ""
           },
           "baxis": {
            "gridcolor": "#DFE8F3",
            "linecolor": "#A2B1C6",
            "ticks": ""
           },
           "bgcolor": "white",
           "caxis": {
            "gridcolor": "#DFE8F3",
            "linecolor": "#A2B1C6",
            "ticks": ""
           }
          },
          "title": {
           "x": 0.05
          },
          "xaxis": {
           "automargin": true,
           "gridcolor": "#EBF0F8",
           "linecolor": "#EBF0F8",
           "ticks": "",
           "title": {
            "standoff": 15
           },
           "zerolinecolor": "#EBF0F8",
           "zerolinewidth": 2
          },
          "yaxis": {
           "automargin": true,
           "gridcolor": "#EBF0F8",
           "linecolor": "#EBF0F8",
           "ticks": "",
           "title": {
            "standoff": 15
           },
           "zerolinecolor": "#EBF0F8",
           "zerolinewidth": 2
          }
         }
        },
        "title": {
         "font": {
          "size": 18
         },
         "text": "Distribution of Intermediate Steps in Mouse Movement Data",
         "x": 0.5,
         "xanchor": "center",
         "y": 0.95,
         "yanchor": "top"
        },
        "xaxis": {
         "gridcolor": "lightgray",
         "gridwidth": 1,
         "showgrid": true,
         "title": {
          "text": "Number of Intermediate Steps"
         }
        },
        "yaxis": {
         "gridcolor": "lightgray",
         "gridwidth": 1,
         "showgrid": true,
         "title": {
          "text": "Frequency (Number of Samples)"
         }
        }
       }
      }
     },
     "metadata": {},
     "output_type": "display_data"
    }
   ],
   "source": [
    "fig = go.Figure()\n",
    "\n",
    "# Add a trace to the figure (line plot with improved markers)\n",
    "fig.add_trace(\n",
    "    go.Scatter(\n",
    "        x=list(intermediate_steps_counts.keys()),\n",
    "        y=list(intermediate_steps_counts.values()),\n",
    "        mode=\"lines+markers\",\n",
    "        name=\"Intermediate Steps Count\",\n",
    "        line=dict(color=\"royalblue\", width=2),\n",
    "        marker=dict(size=6, color=\"darkblue\", symbol=\"circle\"),\n",
    "    )\n",
    ")\n",
    "\n",
    "# Calculate some statistics for annotations\n",
    "max_count = max(intermediate_steps_counts.values())\n",
    "max_steps = list(intermediate_steps_counts.keys())[\n",
    "    list(intermediate_steps_counts.values()).index(max_count)\n",
    "]\n",
    "mean_steps = statistics.mean(intermediate_steps_lengths)\n",
    "median_steps = statistics.median(intermediate_steps_lengths)\n",
    "\n",
    "# Add annotations for key statistics\n",
    "fig.add_annotation(\n",
    "    x=max_steps,\n",
    "    y=max_count,\n",
    "    text=f\"Peak: {max_count} samples with {max_steps} steps\",\n",
    "    showarrow=True,\n",
    "    arrowhead=1,\n",
    "    ax=50,\n",
    "    ay=-40,\n",
    ")\n",
    "\n",
    "# Add horizontal line for mean\n",
    "fig.add_shape(\n",
    "    type=\"line\",\n",
    "    x0=min(intermediate_steps_counts.keys()),\n",
    "    y0=mean_steps,\n",
    "    x1=max(intermediate_steps_counts.keys()),\n",
    "    y1=mean_steps,\n",
    "    line=dict(color=\"red\", width=1, dash=\"dash\"),\n",
    ")\n",
    "\n",
    "fig.add_annotation(\n",
    "    x=max(intermediate_steps_counts.keys()) * 0.9,\n",
    "    y=mean_steps,\n",
    "    text=f\"Mean: {mean_steps:.2f} steps\",\n",
    "    showarrow=False,\n",
    "    font=dict(color=\"red\"),\n",
    ")\n",
    "\n",
    "# Add statistical information in a box in the top right corner\n",
    "stats_text = (\n",
    "    f\"<b>Statistics:</b><br>\"\n",
    "    f\"Mean: {mean_value:.2f}<br>\"\n",
    "    f\"Median: {median_value}<br>\"\n",
    "    f\"Mode: {mode_value}<br>\"\n",
    "    f\"Std Dev: {std_dev:.2f}<br>\"\n",
    "    f\"Q1: {first_quartile:.0f}<br>\"\n",
    "    f\"Q3: {third_quartile:.0f}<br>\"\n",
    "    f\"90%: {ninetieth_percentile:.0f}<br>\"\n",
    "    f\"95%: {ninety_fifth_percentile:.0f}<br>\"\n",
    "    f\"99%: {ninety_ninth_percentile:.0f}\"\n",
    ")\n",
    "\n",
    "fig.add_annotation(\n",
    "    x=0.98,\n",
    "    y=0.98,\n",
    "    xref=\"paper\",\n",
    "    yref=\"paper\",\n",
    "    text=stats_text,\n",
    "    showarrow=False,\n",
    "    align=\"left\",\n",
    "    bgcolor=\"rgba(255, 255, 255, 0.8)\",\n",
    "    bordercolor=\"gray\",\n",
    "    borderwidth=1,\n",
    "    font=dict(size=10),\n",
    "    xanchor=\"right\",\n",
    "    yanchor=\"top\",\n",
    ")\n",
    "\n",
    "# Update layout with hover functionality and improved styling\n",
    "fig.update_layout(\n",
    "    title={\n",
    "        \"text\": \"Distribution of Intermediate Steps in Mouse Movement Data\",\n",
    "        \"y\": 0.95,\n",
    "        \"x\": 0.5,\n",
    "        \"xanchor\": \"center\",\n",
    "        \"yanchor\": \"top\",\n",
    "        \"font\": dict(size=18),\n",
    "    },\n",
    "    xaxis_title=\"Number of Intermediate Steps\",\n",
    "    yaxis_title=\"Frequency (Number of Samples)\",\n",
    "    hovermode=\"x unified\",\n",
    "    hoverlabel=dict(bgcolor=\"white\", font_size=12, font_family=\"Arial\"),\n",
    "    template=\"plotly_white\",\n",
    "    legend=dict(orientation=\"h\", yanchor=\"bottom\", y=1.02, xanchor=\"right\", x=1),\n",
    "    margin=dict(l=60, r=60, t=80, b=60),\n",
    ")\n",
    "\n",
    "# Add grid and improve axes\n",
    "fig.update_xaxes(showgrid=True, gridwidth=1, gridcolor=\"lightgray\")\n",
    "fig.update_yaxes(showgrid=True, gridwidth=1, gridcolor=\"lightgray\")\n",
    "\n",
    "fig.show()"
   ]
  },
  {
   "cell_type": "code",
   "execution_count": 8,
   "metadata": {},
   "outputs": [
    {
     "data": {
      "text/plain": [
       "39"
      ]
     },
     "execution_count": 8,
     "metadata": {},
     "output_type": "execute_result"
    }
   ],
   "source": [
    "suitable_steps = int(\n",
    "    (mode_value + median_value + third_quartile) / 3\n",
    ")  # it's just a intrusive guess and it is giving better results than the mean value\n",
    "suitable_steps"
   ]
  },
  {
   "cell_type": "code",
   "execution_count": 9,
   "metadata": {},
   "outputs": [],
   "source": [
    "def clean_equal_size(data):\n",
    "    \"\"\"\n",
    "    Clean the data having equal number of intermediate steps as suitable_steps\n",
    "    \"\"\"\n",
    "    processed_data = []\n",
    "    processed_data.append([data[0][\"x\"], data[0][\"y\"]])\n",
    "    for index, step in enumerate(data):\n",
    "        if index == 0 or index == len(data) - 1:\n",
    "            continue\n",
    "        current_step = [step[\"x\"], step[\"y\"]]\n",
    "        processed_data.append(current_step)\n",
    "\n",
    "    processed_data.append([data[-1][\"x\"], data[-1][\"y\"]])\n",
    "    return processed_data"
   ]
  },
  {
   "cell_type": "code",
   "execution_count": 10,
   "metadata": {},
   "outputs": [],
   "source": [
    "def clean_smaller_size(data, suitable_steps):\n",
    "    \"\"\"\n",
    "    Clean the data having smaller number of intermediate steps than suitable_steps\n",
    "    \"\"\"\n",
    "    processed_data = [[0, 0] for _ in range(suitable_steps)]\n",
    "    processed_data[0] = [\n",
    "        data[0][\"x\"],\n",
    "        data[0][\"y\"],\n",
    "    ]  # saving the intial position as it is, no need to modify it\n",
    "    processed_data[-1] = [\n",
    "        data[-1][\"x\"],\n",
    "        data[-1][\"y\"],\n",
    "    ]  # saving the final position as it is, no need to modify it\n",
    "\n",
    "    random_positions_to_fill = (\n",
    "        np.linspace(1, suitable_steps - 2, suitable_steps - len(data), endpoint=False)\n",
    "        .astype(int)\n",
    "        .tolist()\n",
    "    )\n",
    "\n",
    "    for index, rp in enumerate(random_positions_to_fill):\n",
    "        if index < len(data) - 1:\n",
    "            processed_data[rp] = [data[index][\"x\"], data[index][\"y\"]]\n",
    "\n",
    "    # saving the indices of original data\n",
    "    org_data_indices = [0, suitable_steps - 1]\n",
    "    org_data_indices.extend(random_positions_to_fill)\n",
    "    org_data_indices.sort()\n",
    "\n",
    "    last_index = 0\n",
    "    last_value = processed_data[last_index]\n",
    "\n",
    "    for current_index in org_data_indices:\n",
    "        if current_index == 0 or current_index == suitable_steps - 1:\n",
    "            continue\n",
    "\n",
    "        gap_between_data = current_index - last_index\n",
    "\n",
    "        for i in range(last_index, current_index):\n",
    "            to_add = [\n",
    "                (processed_data[current_index][0] - last_value[0]) / gap_between_data,\n",
    "                (processed_data[current_index][1] - last_value[1]) / gap_between_data,\n",
    "            ]\n",
    "            processed_data[i] = [\n",
    "                last_value[0] + to_add[0],\n",
    "                last_value[1] + to_add[1],\n",
    "            ]\n",
    "\n",
    "        last_value = processed_data[last_index]\n",
    "\n",
    "    return processed_data"
   ]
  },
  {
   "cell_type": "code",
   "execution_count": 11,
   "metadata": {},
   "outputs": [],
   "source": [
    "def clean_larger_size(data, suitable_steps):\n",
    "    processed_data = [[0, 0] for _ in range(suitable_steps)]\n",
    "    processed_data[0] = [\n",
    "        data[0][\"x\"],\n",
    "        data[0][\"y\"],\n",
    "    ]  # saving the intial position as it is, no need to modify it\n",
    "    processed_data[-1] = [\n",
    "        data[-1][\"x\"],\n",
    "        data[-1][\"y\"],\n",
    "    ]  # saving the final position as it is, no need to modify it\n",
    "\n",
    "    distances = [\n",
    "        math.sqrt(\n",
    "            (data[i + 1][\"x\"] - data[i][\"x\"]) ** 2\n",
    "            + (data[i + 1][\"y\"] - data[i][\"y\"]) ** 2\n",
    "        )\n",
    "        + (\n",
    "            math.sqrt(\n",
    "                (data[i][\"x\"] - data[i - 1][\"x\"]) ** 2\n",
    "                + (data[i][\"y\"] - data[i - 1][\"y\"]) ** 2\n",
    "            )\n",
    "        )\n",
    "        for i in range(1, len(data) - 1)\n",
    "    ]\n",
    "    distances_arr = np.array(distances)\n",
    "    sorted_indices = np.argsort(\n",
    "        distances_arr\n",
    "    )  # sorting the indices of distances in ascending order\n",
    "\n",
    "    positions_to_remove = sorted_indices[\n",
    "        : (len(data) - suitable_steps)\n",
    "    ]  # removing the first n elements from the sorted indices; removing the smallest n distances\n",
    "    processed_data = [\n",
    "        [step[\"x\"], step[\"y\"]]\n",
    "        for index, step in enumerate(data)\n",
    "        if index not in positions_to_remove\n",
    "    ]\n",
    "    return processed_data"
   ]
  },
  {
   "cell_type": "code",
   "execution_count": 12,
   "metadata": {},
   "outputs": [],
   "source": [
    "random.shuffle(original_data)  # shuffle the data to get random samples\n",
    "cleaned_data = {\"input\": [], \"output\": []}\n",
    "\n",
    "for data in original_data:\n",
    "    input_data = data[\"initial\"] + data[\"final\"]\n",
    "    current_path_movement_data = data[\"path\"]\n",
    "    if len(current_path_movement_data) < suitable_steps:\n",
    "        cleaned_output_data = clean_smaller_size(\n",
    "            current_path_movement_data, suitable_steps\n",
    "        )\n",
    "    elif len(current_path_movement_data) > suitable_steps:\n",
    "        cleaned_output_data = clean_larger_size(\n",
    "            current_path_movement_data, suitable_steps\n",
    "        )\n",
    "    else:\n",
    "        cleaned_output_data = clean_equal_size(current_path_movement_data)\n",
    "    cleaned_data[\"input\"].append(input_data)\n",
    "    cleaned_data[\"output\"].append(cleaned_output_data)"
   ]
  },
  {
   "cell_type": "code",
   "execution_count": null,
   "metadata": {},
   "outputs": [],
   "source": [
    "cleaned_data_file_name = (\n",
    "    f\"cleaned-data-{suitable_steps}-steps-{prepared_data_file_name}\"\n",
    ")\n",
    "cleaned_data_file_path = os.path.join(\n",
    "    os.path.dirname(os.getcwd()), \"data\", \"processed\", cleaned_data_file_name\n",
    ")\n",
    "print(cleaned_data_file_path)\n",
    "os.path.exists(cleaned_data_file_path)  # check if the file exists, must return False"
   ]
  },
  {
   "cell_type": "code",
   "execution_count": 115,
   "metadata": {},
   "outputs": [],
   "source": [
    "file = open(cleaned_data_file_path, \"w\")\n",
    "json.dump(cleaned_data, file)\n",
    "file.close()"
   ]
  }
 ],
 "metadata": {
  "kernelspec": {
   "display_name": "bumblebee",
   "language": "python",
   "name": "python3"
  },
  "language_info": {
   "codemirror_mode": {
    "name": "ipython",
    "version": 3
   },
   "file_extension": ".py",
   "mimetype": "text/x-python",
   "name": "python",
   "nbconvert_exporter": "python",
   "pygments_lexer": "ipython3",
   "version": "3.13.2"
  }
 },
 "nbformat": 4,
 "nbformat_minor": 2
}
