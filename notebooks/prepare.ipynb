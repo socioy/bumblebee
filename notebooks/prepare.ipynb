{
 "cells": [
  {
   "cell_type": "markdown",
   "metadata": {},
   "source": [
    "## Data Processing\n",
    "\n",
    "This notebook merges and processes raw data from `data/raw/` to prepare it for training. It extracts and formats mouse cursor path data, then exports the processed dataset to `data/processed/`.  \n",
    "\n",
    "### Current Scope  \n",
    "- Merges and cleans raw data for training.  \n",
    "- Extracts and processes mouse cursor path data.  \n",
    "- Exports the structured dataset for model input.  \n"
   ]
  },
  {
   "cell_type": "code",
   "execution_count": 1,
   "metadata": {},
   "outputs": [],
   "source": [
    "import os\n",
    "import json\n",
    "import time\n",
    "from typing import List, Dict, Any"
   ]
  },
  {
   "cell_type": "code",
   "execution_count": 2,
   "metadata": {},
   "outputs": [],
   "source": [
    "current_path = os.getcwd()\n",
    "bumblebee_path = os.path.dirname(current_path)"
   ]
  },
  {
   "cell_type": "code",
   "execution_count": 3,
   "metadata": {},
   "outputs": [],
   "source": [
    "training_data_folder_name = [\"paths-only\", \"paths-plus-speed\"]\n",
    "training_data_folder_path = [\n",
    "    os.path.join(bumblebee_path, \"data\", \"raw\", folder)\n",
    "    for folder in training_data_folder_name\n",
    "]\n",
    "prepared_data_file_name = (\n",
    "    f\"merged-prepared-data-{time.strftime('%Y-%m-%d-%H:%M:%S')}.json\"\n",
    ")"
   ]
  },
  {
   "cell_type": "code",
   "execution_count": 4,
   "metadata": {},
   "outputs": [],
   "source": [
    "files_to_merge = []\n",
    "for folder in training_data_folder_path:\n",
    "    files = os.listdir(folder)\n",
    "    for file in files:\n",
    "        if file.endswith(\".json\"):\n",
    "            files_to_merge.append(os.path.join(folder, file))\n",
    "        else:\n",
    "            print(f\"Skipping file {file} as it is not a json file\")"
   ]
  },
  {
   "cell_type": "code",
   "execution_count": 5,
   "metadata": {},
   "outputs": [],
   "source": [
    "def merge_json_data(files_to_merge) -> List[Dict[str, Any]]:\n",
    "    merged_data = []\n",
    "    for file in files_to_merge:\n",
    "        with open(file, \"r\") as f:\n",
    "            data = json.load(f)\n",
    "            merged_data.extend(data)\n",
    "    return merged_data\n",
    "\n",
    "\n",
    "merged_json_data = merge_json_data(files_to_merge)"
   ]
  },
  {
   "cell_type": "code",
   "execution_count": 14,
   "metadata": {},
   "outputs": [],
   "source": [
    "def prepare_data(data: List[Dict[str, Any]]) -> List[Dict[str, Any]]:\n",
    "    prepared_data = []\n",
    "    for dp in data:\n",
    "        current_data = {}\n",
    "        current_data[\"initial\"] = dp[\"initialPosition\"]\n",
    "        current_data[\"final\"] = dp[\"finalMousePosition\"]\n",
    "\n",
    "        current_path_data = []\n",
    "        for step in dp[\"movementData\"]:\n",
    "            movement_step = {\n",
    "                \"x\": step[\"x\"],\n",
    "                \"y\": step[\"y\"],\n",
    "            }\n",
    "            current_path_data.append(movement_step)\n",
    "        current_data[\"path\"] = current_path_data\n",
    "        prepared_data.append(current_data)\n",
    "    return prepared_data\n",
    "\n",
    "\n",
    "prepared_data = prepare_data(merged_json_data)"
   ]
  },
  {
   "cell_type": "code",
   "execution_count": 15,
   "metadata": {},
   "outputs": [],
   "source": [
    "json.dump(\n",
    "    prepared_data,\n",
    "    open(\n",
    "        os.path.join(bumblebee_path, \"data\", \"processed\", prepared_data_file_name), \"w\"\n",
    "    ),\n",
    "    indent=2,\n",
    ")"
   ]
  }
 ],
 "metadata": {
  "kernelspec": {
   "display_name": "bumblebee",
   "language": "python",
   "name": "python3"
  },
  "language_info": {
   "codemirror_mode": {
    "name": "ipython",
    "version": 3
   },
   "file_extension": ".py",
   "mimetype": "text/x-python",
   "name": "python",
   "nbconvert_exporter": "python",
   "pygments_lexer": "ipython3",
   "version": "3.13.2"
  }
 },
 "nbformat": 4,
 "nbformat_minor": 2
}
